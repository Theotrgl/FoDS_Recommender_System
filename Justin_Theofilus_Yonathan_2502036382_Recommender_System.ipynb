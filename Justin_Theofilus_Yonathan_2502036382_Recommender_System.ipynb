{
  "cells": [
    {
      "cell_type": "markdown",
      "metadata": {
        "id": "8ZonY_oYNjt_"
      },
      "source": [
        "<h3><b> Based on this exercise, discuss the the questions in Quizizz with your group"
      ]
    },
    {
      "cell_type": "markdown",
      "metadata": {
        "id": "k5Xr9Dv4NjuF"
      },
      "source": [
        "Steps in a user-based recommendation system:\n",
        "\n",
        "1. Select a user with the movies the user has watched\n",
        "2. Based on his rating to movies, find the top x neighbours\n",
        "3. Get the watched movie record of the user for each neighbour.\n",
        "4. Calculate a similarity score using some formula\n",
        "5. Recommend the items with the highest score"
      ]
    },
    {
      "cell_type": "code",
      "execution_count": 2,
      "metadata": {
        "id": "m32700SVNjuL"
      },
      "outputs": [],
      "source": [
        "import pandas as pd\n",
        "from math import sqrt\n",
        "import numpy as np\n",
        "from sklearn import datasets"
      ]
    },
    {
      "cell_type": "code",
      "execution_count": 4,
      "metadata": {
        "colab": {
          "base_uri": "https://localhost:8080/"
        },
        "id": "maXzLmxGNjuO",
        "outputId": "43e303d0-d5b6-4a83-d3f4-cb127e78139a"
      },
      "outputs": [
        {
          "output_type": "stream",
          "name": "stdout",
          "text": [
            "<class 'pandas.core.frame.DataFrame'>\n",
            "RangeIndex: 12294 entries, 0 to 12293\n",
            "Data columns (total 7 columns):\n",
            " #   Column    Non-Null Count  Dtype  \n",
            "---  ------    --------------  -----  \n",
            " 0   anime_id  12294 non-null  int64  \n",
            " 1   name      12294 non-null  object \n",
            " 2   genre     12232 non-null  object \n",
            " 3   type      12269 non-null  object \n",
            " 4   episodes  12294 non-null  object \n",
            " 5   rating    12064 non-null  float64\n",
            " 6   members   12294 non-null  int64  \n",
            "dtypes: float64(1), int64(2), object(4)\n",
            "memory usage: 672.5+ KB\n",
            "None\n"
          ]
        }
      ],
      "source": [
        "anime_url = 'https://raw.githubusercontent.com/Theotrgl/FoDS_Recommender_System/main/anime.csv'\n",
        "ratings_url = 'https://raw.githubusercontent.com/Theotrgl/FoDS_Recommender_System/main/rating.csv'\n",
        "anime_df = pd.read_csv(anime_url)\n",
        "ratings_df = pd.read_csv(ratings_url)\n",
        "print(anime_df.info())"
      ]
    },
    {
      "cell_type": "code",
      "execution_count": 6,
      "metadata": {
        "id": "gW_QBJHLNjuP",
        "colab": {
          "base_uri": "https://localhost:8080/"
        },
        "outputId": "93d30250-6a75-4fab-d6f2-bd6c67baa078"
      },
      "outputs": [
        {
          "output_type": "stream",
          "name": "stdout",
          "text": [
            "                         name  rating\n",
            "0                     Gintama    9.04\n",
            "1                Cowboy Bebop    8.82\n",
            "2               One Punch Man    8.82\n",
            "3                  Death Note    8.71\n",
            "4  Tengen Toppa Gurren Lagann    8.78\n"
          ]
        }
      ],
      "source": [
        "userInput = [{'name':'Gintama', 'rating':9.04},\n",
        "             {'name':'Cowboy Bebop', 'rating':8.82},\n",
        "             {'name':'One Punch Man', 'rating':8.82},\n",
        "             {'name':'Death Note', 'rating':8.71},\n",
        "             {'name':'Tengen Toppa Gurren Lagann', 'rating':8.78}]\n",
        "inputAnime = pd.DataFrame(userInput)\n",
        "print(inputAnime)"
      ]
    },
    {
      "cell_type": "code",
      "execution_count": 9,
      "metadata": {
        "id": "SFApFIiDNjuR",
        "colab": {
          "base_uri": "https://localhost:8080/"
        },
        "outputId": "476f925d-c5d9-42e9-a93c-5913bd313879"
      },
      "outputs": [
        {
          "output_type": "stream",
          "name": "stdout",
          "text": [
            "   anime_id                        name  rating\n",
            "0       918                     Gintama    9.04\n",
            "1         1                Cowboy Bebop    8.82\n",
            "2     30276               One Punch Man    8.82\n",
            "3      2001  Tengen Toppa Gurren Lagann    8.78\n",
            "4      1535                  Death Note    8.71\n"
          ]
        }
      ],
      "source": [
        "inputId = anime_df[anime_df['name'].isin(inputAnime['name'].tolist())]\n",
        "inputAnime = pd.merge(inputId, inputAnime)\n",
        "inputAnime = inputAnime[['anime_id','name','rating']]\n",
        "print(inputAnime)"
      ]
    },
    {
      "cell_type": "markdown",
      "metadata": {
        "id": "r_23sJ1vNjuS"
      },
      "source": [
        "#### Now with the `movieId` in our input, we can now get the subset of users that have watched and reviewed the movies in our input. Find the similar user taste."
      ]
    },
    {
      "cell_type": "code",
      "execution_count": 10,
      "metadata": {
        "id": "BmGI-DmrNjuS",
        "colab": {
          "base_uri": "https://localhost:8080/"
        },
        "outputId": "c56927b6-f643-4940-a14c-b4c7451882f4"
      },
      "outputs": [
        {
          "output_type": "stream",
          "name": "stdout",
          "text": [
            "          user_id  rating\n",
            "anime_id                 \n",
            "1           15509   15509\n",
            "918          4974    4974\n",
            "1535        39340   39340\n",
            "2001        19337   19337\n",
            "30276       13374   13374\n"
          ]
        }
      ],
      "source": [
        "userSubset = ratings_df[ratings_df['anime_id'].isin(inputAnime['anime_id'].tolist())]\n",
        "print(userSubset.groupby('anime_id').count())"
      ]
    },
    {
      "cell_type": "code",
      "execution_count": 12,
      "metadata": {
        "id": "-1566eb1NjuU",
        "colab": {
          "base_uri": "https://localhost:8080/"
        },
        "outputId": "c5f37790-5bd6-4a7b-ec54-25c7d28d3b49"
      },
      "outputs": [
        {
          "output_type": "stream",
          "name": "stdout",
          "text": [
            "[(226,        user_id  anime_id  rating\n",
            "17304      226         1       8\n",
            "17449      226       918       8\n",
            "17470      226      1535       8\n",
            "17501      226      2001       6\n",
            "18001      226     30276       9), (274,        user_id  anime_id  rating\n",
            "23128      274         1      -1\n",
            "23146      274       918      -1\n",
            "23147      274      1535      -1\n",
            "23150      274      2001      -1\n",
            "23235      274     30276      -1), (296,        user_id  anime_id  rating\n",
            "25851      296         1       8\n",
            "25925      296       918      10\n",
            "25939      296      1535      10\n",
            "25949      296      2001       9\n",
            "26200      296     30276      -1), (392,        user_id  anime_id  rating\n",
            "35109      392         1       7\n",
            "35223      392       918       8\n",
            "35250      392      1535       8\n",
            "35277      392      2001       8\n",
            "35790      392     30276       8), (567,        user_id  anime_id  rating\n",
            "54622      567         1       8\n",
            "54680      567       918      10\n",
            "54692      567      1535      10\n",
            "54704      567      2001       8\n",
            "54931      567     30276      10)]\n"
          ]
        }
      ],
      "source": [
        "#Groupby creates several sub dataframes where they all have the same value in the column specified as the parameter\n",
        "userSubsetGroup = userSubset.groupby(['user_id'])\n",
        "\n",
        "def take_5_elem(x):\n",
        "    # print (len(x[1]))\n",
        "    return len(x[1])\n",
        "    \n",
        "\n",
        "#Sorting it so users with movie most in common with the input will have priority\n",
        "userSubsetGroup = sorted(userSubsetGroup, key=take_5_elem, reverse=True)\n",
        "\n",
        "userSubsetGroup = userSubsetGroup[0:100]\n",
        "print(userSubsetGroup[0:5])\n"
      ]
    },
    {
      "cell_type": "code",
      "execution_count": 14,
      "metadata": {
        "id": "h_KYBeMtNjuV"
      },
      "outputs": [],
      "source": [
        "#Store the Pearson Correlation in a dictionary, where the key is the user Id and the value is the coefficient\n",
        "pearsonCorrelationDict = {}\n",
        "\n",
        "#For every user group in our subset\n",
        "for name, group in userSubsetGroup:\n",
        "\n",
        "    #Let's start by sorting the input and current user group so the values aren't mixed up later on\n",
        "    group = group.sort_values(by='anime_id')\n",
        "    inputAnime = inputAnime.sort_values(by='anime_id')\n",
        "\n",
        "    #Get the N for the formula\n",
        "    nRatings = len(group)\n",
        "\n",
        "    #Get the review scores for the movies that they both have in common\n",
        "    temp_df = inputAnime[inputAnime['anime_id'].isin(group['anime_id'].tolist())]\n",
        "\n",
        "    #And then store them in a temporary buffer variable in a list format to facilitate future calculations\n",
        "    tempRatingList = temp_df['rating'].tolist()\n",
        "   \n",
        "    #Let's also put the current user group reviews in a list format\n",
        "    tempGroupList = group['rating'].tolist()\n",
        "   \n",
        "    \n",
        "    #Now let's calculate the pearson correlation between two users, so called, x and y manually (check the formula from week 7 slide)\n",
        "    Sxx = sum([i**2 for i in tempRatingList]) - pow(sum(tempRatingList),2)/float(nRatings)\n",
        "    Syy = sum([i**2 for i in tempGroupList]) - pow(sum(tempGroupList),2)/float(nRatings)\n",
        "    Sxy = sum( i*j for i, j in zip(tempRatingList, tempGroupList)) - sum(tempRatingList)*sum(tempGroupList)/float(nRatings)\n",
        "\n",
        "    #If the denominator is different than zero, then divide, else, 0 correlation.\n",
        "    if Sxx != 0 and Syy != 0:\n",
        "        pearsonCorrelationDict[name] = Sxy/sqrt(Sxx*Syy)\n",
        "    else:\n",
        "        pearsonCorrelationDict[name] = 0\n",
        "    \n"
      ]
    },
    {
      "cell_type": "code",
      "execution_count": 15,
      "metadata": {
        "id": "Ozp4EqHsNjuX",
        "colab": {
          "base_uri": "https://localhost:8080/"
        },
        "outputId": "34637180-d708-437c-e542-71bc133c5108"
      },
      "outputs": [
        {
          "output_type": "stream",
          "name": "stdout",
          "text": [
            "   similarityIndex  user_id\n",
            "0         0.173546      226\n",
            "1         0.000000      274\n",
            "2         0.102461      296\n",
            "3         0.063313      392\n",
            "4         0.251088      567\n"
          ]
        }
      ],
      "source": [
        "pearsonDF = pd.DataFrame.from_dict(pearsonCorrelationDict, orient='index')\n",
        "pearsonDF.columns = ['similarityIndex']\n",
        "pearsonDF['user_id'] = pearsonDF.index\n",
        "pearsonDF.index = range(len(pearsonDF))\n",
        "print(pearsonDF.head())\n"
      ]
    },
    {
      "cell_type": "code",
      "execution_count": 16,
      "metadata": {
        "id": "R89syb-KNjuY",
        "colab": {
          "base_uri": "https://localhost:8080/"
        },
        "outputId": "bc5773e3-df8a-46c9-8eee-0cf8dc989c14"
      },
      "outputs": [
        {
          "output_type": "stream",
          "name": "stdout",
          "text": [
            "    similarityIndex  user_id\n",
            "22         0.943859     2989\n",
            "97         0.931602     8107\n",
            "11         0.928241     1576\n",
            "53         0.838192     5548\n",
            "74         0.838192     6416\n"
          ]
        }
      ],
      "source": [
        "topUsers=pearsonDF.sort_values(by='similarityIndex', ascending=False)[0:50]\n",
        "print(topUsers.head())"
      ]
    },
    {
      "cell_type": "code",
      "execution_count": 17,
      "metadata": {
        "id": "Y5BLrcz7NjuZ",
        "colab": {
          "base_uri": "https://localhost:8080/"
        },
        "outputId": "c099c2c4-2492-4357-a16b-8ead29337db4"
      },
      "outputs": [
        {
          "output_type": "stream",
          "name": "stdout",
          "text": [
            "    similarityIndex  user_id  anime_id  rating\n",
            "0          0.943859     2989         1       9\n",
            "1          0.943859     2989         6       8\n",
            "2          0.943859     2989        20       7\n",
            "3          0.943859     2989        30       7\n",
            "4          0.943859     2989        32       8\n",
            "..              ...      ...       ...     ...\n",
            "95         0.943859     2989     10110       7\n",
            "96         0.943859     2989     10119       8\n",
            "97         0.943859     2989     10209       5\n",
            "98         0.943859     2989     10568       8\n",
            "99         0.943859     2989     10620       6\n",
            "\n",
            "[100 rows x 4 columns]\n"
          ]
        }
      ],
      "source": [
        "topUsersRating=topUsers.merge(ratings_df, left_on='user_id', right_on='user_id', how='inner')\n",
        "print(topUsersRating.head(100))"
      ]
    },
    {
      "cell_type": "code",
      "execution_count": 18,
      "metadata": {
        "id": "xHTIZNdwNjuZ",
        "colab": {
          "base_uri": "https://localhost:8080/"
        },
        "outputId": "7db00efe-8755-4fb6-984a-ce0024864315"
      },
      "outputs": [
        {
          "output_type": "stream",
          "name": "stdout",
          "text": [
            "   similarityIndex  user_id  anime_id  rating  weightedRating\n",
            "0         0.943859     2989         1       9        8.494734\n",
            "1         0.943859     2989         6       8        7.550875\n",
            "2         0.943859     2989        20       7        6.607015\n",
            "3         0.943859     2989        30       7        6.607015\n",
            "4         0.943859     2989        32       8        7.550875\n"
          ]
        }
      ],
      "source": [
        "#Multiplies the similarity by the user’s ratings\n",
        "topUsersRating['weightedRating'] = topUsersRating['similarityIndex']*topUsersRating['rating']\n",
        "print(topUsersRating.head())"
      ]
    },
    {
      "cell_type": "code",
      "execution_count": 19,
      "metadata": {
        "id": "nsQ624GXNjua",
        "colab": {
          "base_uri": "https://localhost:8080/"
        },
        "outputId": "420c3aba-630d-4fa3-fe97-66ae5349b456"
      },
      "outputs": [
        {
          "output_type": "stream",
          "name": "stdout",
          "text": [
            "          sum_similarityIndex  sum_weightedRating\n",
            "anime_id                                         \n",
            "1                   25.948208          214.252638\n",
            "5                   13.036242          103.867795\n",
            "6                   15.274047          116.580572\n",
            "7                    2.647062           18.019870\n",
            "8                    0.592427            4.739414\n"
          ]
        }
      ],
      "source": [
        "#Applies a sum to the topUsers after grouping it up by movieId\n",
        "tempTopUsersRating = topUsersRating.groupby('anime_id').sum()[['similarityIndex','weightedRating']]\n",
        "tempTopUsersRating.columns = ['sum_similarityIndex','sum_weightedRating']\n",
        "print(tempTopUsersRating.head())"
      ]
    },
    {
      "cell_type": "code",
      "execution_count": 20,
      "metadata": {
        "id": "yFLw-nzNNjua",
        "colab": {
          "base_uri": "https://localhost:8080/"
        },
        "outputId": "fb840924-eafd-4965-8454-7e717b3f4bfc"
      },
      "outputs": [
        {
          "output_type": "stream",
          "name": "stdout",
          "text": [
            "          weighted average recommendation score  anime_id\n",
            "anime_id                                                 \n",
            "1                                      8.256934         1\n",
            "5                                      7.967618         5\n",
            "6                                      7.632592         6\n",
            "7                                      6.807499         7\n",
            "8                                      8.000000         8\n",
            "15                                     8.681326        15\n",
            "16                                     9.062583        16\n",
            "17                                     8.750565        17\n",
            "18                                     9.000000        18\n",
            "19                                     8.224247        19\n"
          ]
        }
      ],
      "source": [
        "#Creates an empty dataframe\n",
        "recommendation_df = pd.DataFrame()\n",
        "\n",
        "#Now we take the weighted average\n",
        "recommendation_df['weighted average recommendation score'] = tempTopUsersRating['sum_weightedRating']/tempTopUsersRating['sum_similarityIndex']\n",
        "recommendation_df['anime_id'] = tempTopUsersRating.index\n",
        "print(recommendation_df.head(10))"
      ]
    },
    {
      "cell_type": "code",
      "execution_count": 21,
      "metadata": {
        "id": "A1tNpC07Njuc",
        "colab": {
          "base_uri": "https://localhost:8080/"
        },
        "outputId": "ee4a66de-e77d-4dce-d906-90b8001d026f"
      },
      "outputs": [
        {
          "output_type": "stream",
          "name": "stdout",
          "text": [
            "          weighted average recommendation score  anime_id\n",
            "anime_id                                                 \n",
            "1034                                       10.0      1034\n",
            "593                                        10.0       593\n",
            "10507                                      10.0     10507\n",
            "557                                        10.0       557\n",
            "31733                                      10.0     31733\n",
            "...                                         ...       ...\n",
            "19671                                      -1.0     19671\n",
            "1184                                       -1.0      1184\n",
            "1816                                       -1.0      1816\n",
            "28779                                      -1.0     28779\n",
            "3031                                       -1.0      3031\n",
            "\n",
            "[3779 rows x 2 columns]\n"
          ]
        }
      ],
      "source": [
        "recommendation_df = recommendation_df.sort_values(by='weighted average recommendation score', ascending=False)\n",
        "print(recommendation_df)\n"
      ]
    },
    {
      "cell_type": "code",
      "execution_count": 26,
      "metadata": {
        "id": "5liD4u2aNjud",
        "colab": {
          "base_uri": "https://localhost:8080/",
          "height": 206
        },
        "outputId": "933fa400-e353-4eec-aedf-080e3dc11bf7"
      },
      "outputs": [
        {
          "output_type": "execute_result",
          "data": {
            "text/plain": [
              "   anime_id                              name  \\\n",
              "0     32281                    Kimi no Na wa.   \n",
              "1      5114  Fullmetal Alchemist: Brotherhood   \n",
              "2     28977                          Gintama°   \n",
              "3      9253                       Steins;Gate   \n",
              "4      9969                     Gintama&#039;   \n",
              "\n",
              "                                               genre   type episodes  rating  \\\n",
              "0               Drama, Romance, School, Supernatural  Movie        1    9.37   \n",
              "1  Action, Adventure, Drama, Fantasy, Magic, Mili...     TV       64    9.26   \n",
              "2  Action, Comedy, Historical, Parody, Samurai, S...     TV       51    9.25   \n",
              "3                                   Sci-Fi, Thriller     TV       24    9.17   \n",
              "4  Action, Comedy, Historical, Parody, Samurai, S...     TV       51    9.16   \n",
              "\n",
              "   members  \n",
              "0   200630  \n",
              "1   793665  \n",
              "2   114262  \n",
              "3   673572  \n",
              "4   151266  "
            ],
            "text/html": [
              "\n",
              "  <div id=\"df-81f3d525-0578-480d-b526-34d7c1b3da02\">\n",
              "    <div class=\"colab-df-container\">\n",
              "      <div>\n",
              "<style scoped>\n",
              "    .dataframe tbody tr th:only-of-type {\n",
              "        vertical-align: middle;\n",
              "    }\n",
              "\n",
              "    .dataframe tbody tr th {\n",
              "        vertical-align: top;\n",
              "    }\n",
              "\n",
              "    .dataframe thead th {\n",
              "        text-align: right;\n",
              "    }\n",
              "</style>\n",
              "<table border=\"1\" class=\"dataframe\">\n",
              "  <thead>\n",
              "    <tr style=\"text-align: right;\">\n",
              "      <th></th>\n",
              "      <th>anime_id</th>\n",
              "      <th>name</th>\n",
              "      <th>genre</th>\n",
              "      <th>type</th>\n",
              "      <th>episodes</th>\n",
              "      <th>rating</th>\n",
              "      <th>members</th>\n",
              "    </tr>\n",
              "  </thead>\n",
              "  <tbody>\n",
              "    <tr>\n",
              "      <th>0</th>\n",
              "      <td>32281</td>\n",
              "      <td>Kimi no Na wa.</td>\n",
              "      <td>Drama, Romance, School, Supernatural</td>\n",
              "      <td>Movie</td>\n",
              "      <td>1</td>\n",
              "      <td>9.37</td>\n",
              "      <td>200630</td>\n",
              "    </tr>\n",
              "    <tr>\n",
              "      <th>1</th>\n",
              "      <td>5114</td>\n",
              "      <td>Fullmetal Alchemist: Brotherhood</td>\n",
              "      <td>Action, Adventure, Drama, Fantasy, Magic, Mili...</td>\n",
              "      <td>TV</td>\n",
              "      <td>64</td>\n",
              "      <td>9.26</td>\n",
              "      <td>793665</td>\n",
              "    </tr>\n",
              "    <tr>\n",
              "      <th>2</th>\n",
              "      <td>28977</td>\n",
              "      <td>Gintama°</td>\n",
              "      <td>Action, Comedy, Historical, Parody, Samurai, S...</td>\n",
              "      <td>TV</td>\n",
              "      <td>51</td>\n",
              "      <td>9.25</td>\n",
              "      <td>114262</td>\n",
              "    </tr>\n",
              "    <tr>\n",
              "      <th>3</th>\n",
              "      <td>9253</td>\n",
              "      <td>Steins;Gate</td>\n",
              "      <td>Sci-Fi, Thriller</td>\n",
              "      <td>TV</td>\n",
              "      <td>24</td>\n",
              "      <td>9.17</td>\n",
              "      <td>673572</td>\n",
              "    </tr>\n",
              "    <tr>\n",
              "      <th>4</th>\n",
              "      <td>9969</td>\n",
              "      <td>Gintama&amp;#039;</td>\n",
              "      <td>Action, Comedy, Historical, Parody, Samurai, S...</td>\n",
              "      <td>TV</td>\n",
              "      <td>51</td>\n",
              "      <td>9.16</td>\n",
              "      <td>151266</td>\n",
              "    </tr>\n",
              "  </tbody>\n",
              "</table>\n",
              "</div>\n",
              "      <button class=\"colab-df-convert\" onclick=\"convertToInteractive('df-81f3d525-0578-480d-b526-34d7c1b3da02')\"\n",
              "              title=\"Convert this dataframe to an interactive table.\"\n",
              "              style=\"display:none;\">\n",
              "        \n",
              "  <svg xmlns=\"http://www.w3.org/2000/svg\" height=\"24px\"viewBox=\"0 0 24 24\"\n",
              "       width=\"24px\">\n",
              "    <path d=\"M0 0h24v24H0V0z\" fill=\"none\"/>\n",
              "    <path d=\"M18.56 5.44l.94 2.06.94-2.06 2.06-.94-2.06-.94-.94-2.06-.94 2.06-2.06.94zm-11 1L8.5 8.5l.94-2.06 2.06-.94-2.06-.94L8.5 2.5l-.94 2.06-2.06.94zm10 10l.94 2.06.94-2.06 2.06-.94-2.06-.94-.94-2.06-.94 2.06-2.06.94z\"/><path d=\"M17.41 7.96l-1.37-1.37c-.4-.4-.92-.59-1.43-.59-.52 0-1.04.2-1.43.59L10.3 9.45l-7.72 7.72c-.78.78-.78 2.05 0 2.83L4 21.41c.39.39.9.59 1.41.59.51 0 1.02-.2 1.41-.59l7.78-7.78 2.81-2.81c.8-.78.8-2.07 0-2.86zM5.41 20L4 18.59l7.72-7.72 1.47 1.35L5.41 20z\"/>\n",
              "  </svg>\n",
              "      </button>\n",
              "      \n",
              "  <style>\n",
              "    .colab-df-container {\n",
              "      display:flex;\n",
              "      flex-wrap:wrap;\n",
              "      gap: 12px;\n",
              "    }\n",
              "\n",
              "    .colab-df-convert {\n",
              "      background-color: #E8F0FE;\n",
              "      border: none;\n",
              "      border-radius: 50%;\n",
              "      cursor: pointer;\n",
              "      display: none;\n",
              "      fill: #1967D2;\n",
              "      height: 32px;\n",
              "      padding: 0 0 0 0;\n",
              "      width: 32px;\n",
              "    }\n",
              "\n",
              "    .colab-df-convert:hover {\n",
              "      background-color: #E2EBFA;\n",
              "      box-shadow: 0px 1px 2px rgba(60, 64, 67, 0.3), 0px 1px 3px 1px rgba(60, 64, 67, 0.15);\n",
              "      fill: #174EA6;\n",
              "    }\n",
              "\n",
              "    [theme=dark] .colab-df-convert {\n",
              "      background-color: #3B4455;\n",
              "      fill: #D2E3FC;\n",
              "    }\n",
              "\n",
              "    [theme=dark] .colab-df-convert:hover {\n",
              "      background-color: #434B5C;\n",
              "      box-shadow: 0px 1px 3px 1px rgba(0, 0, 0, 0.15);\n",
              "      filter: drop-shadow(0px 1px 2px rgba(0, 0, 0, 0.3));\n",
              "      fill: #FFFFFF;\n",
              "    }\n",
              "  </style>\n",
              "\n",
              "      <script>\n",
              "        const buttonEl =\n",
              "          document.querySelector('#df-81f3d525-0578-480d-b526-34d7c1b3da02 button.colab-df-convert');\n",
              "        buttonEl.style.display =\n",
              "          google.colab.kernel.accessAllowed ? 'block' : 'none';\n",
              "\n",
              "        async function convertToInteractive(key) {\n",
              "          const element = document.querySelector('#df-81f3d525-0578-480d-b526-34d7c1b3da02');\n",
              "          const dataTable =\n",
              "            await google.colab.kernel.invokeFunction('convertToInteractive',\n",
              "                                                     [key], {});\n",
              "          if (!dataTable) return;\n",
              "\n",
              "          const docLinkHtml = 'Like what you see? Visit the ' +\n",
              "            '<a target=\"_blank\" href=https://colab.research.google.com/notebooks/data_table.ipynb>data table notebook</a>'\n",
              "            + ' to learn more about interactive tables.';\n",
              "          element.innerHTML = '';\n",
              "          dataTable['output_type'] = 'display_data';\n",
              "          await google.colab.output.renderOutput(dataTable, element);\n",
              "          const docLink = document.createElement('div');\n",
              "          docLink.innerHTML = docLinkHtml;\n",
              "          element.appendChild(docLink);\n",
              "        }\n",
              "      </script>\n",
              "    </div>\n",
              "  </div>\n",
              "  "
            ]
          },
          "metadata": {},
          "execution_count": 26
        }
      ],
      "source": [
        "recommended_anime=anime_df.loc[anime_df['anime_id'].isin(recommendation_df['anime_id'])]\n",
        "\n",
        "#we don't want to recommend the same movie\n",
        "recommended_anime=recommended_anime.loc[~recommended_anime.anime_id.isin(userSubset['anime_id'])]\n",
        "\n",
        "recommended_anime.head()"
      ]
    }
  ],
  "metadata": {
    "kernelspec": {
      "display_name": "Python 3",
      "language": "python",
      "name": "python3"
    },
    "language_info": {
      "codemirror_mode": {
        "name": "ipython",
        "version": 3
      },
      "file_extension": ".py",
      "mimetype": "text/x-python",
      "name": "python",
      "nbconvert_exporter": "python",
      "pygments_lexer": "ipython3",
      "version": "3.7.4"
    },
    "colab": {
      "provenance": []
    }
  },
  "nbformat": 4,
  "nbformat_minor": 0
}